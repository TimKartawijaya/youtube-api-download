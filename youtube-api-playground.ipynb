{
 "cells": [
  {
   "cell_type": "code",
   "execution_count": 39,
   "metadata": {},
   "outputs": [],
   "source": [
    "import json\n",
    "import csv\n",
    "import pandas as pd\n",
    "import datetime\n",
    "from pandas.io.json import json_normalize"
   ]
  },
  {
   "cell_type": "code",
   "execution_count": 3,
   "metadata": {},
   "outputs": [],
   "source": [
    "with open('data.json') as file:\n",
    "    data = json.load(file)\n",
    "    \n",
    "#use ijson if can't fit in memory"
   ]
  },
  {
   "cell_type": "code",
   "execution_count": 49,
   "metadata": {},
   "outputs": [],
   "source": [
    "items = data['items']\n",
    "snippet = items[0]['snippet']\n",
    "stats = items[0]['statistics']\n",
    "\n",
    "column_names = ['publishedAt','channelTitle','title','description','thumbnail_url','viewCount','likeCount','dislikeCount','favoriteCount','commentCount']\n",
    "\n",
    "publishedAt = snippet['publishedAt']\n",
    "channelTitle = snippet['channelTitle']\n",
    "title = snippet['title']\n",
    "description = snippet['description']\n",
    "thumbnail_url = snippet['thumbnails']['default']['url']\n",
    "#tags = snippet['tags']\n",
    "viewCount = stats['viewCount']\n",
    "likeCount = stats['likeCount']\n",
    "dislikeCount = stats['dislikeCount']\n",
    "favoriteCount = stats['favoriteCount']\n",
    "commentCount = stats['commentCount']\n",
    "\n",
    "row_selected = [publishedAt,channelTitle,title,description,thumbnail_url,viewCount,likeCount,dislikeCount,favoriteCount,commentCount]\n",
    "\n",
    "dataDict = dict(zip(column_names,row_selected))\n",
    "\n",
    "channelData = pd.DataFrame(dataDict, index=[0])\n",
    "\n",
    "def convert_to_proper_datetime(strdate):\n",
    "    old_format = '%Y-%m-%dT%H:%M:%S.%fz'\n",
    "    new_format = '%Y-%m-%d %H:%M:%S' \n",
    "    datetime.datetime.strptime(strdate, old_format).strftime(new_format)\n",
    "\n",
    "\n"
   ]
  },
  {
   "cell_type": "code",
   "execution_count": null,
   "metadata": {},
   "outputs": [],
   "source": []
  }
 ],
 "metadata": {
  "kernelspec": {
   "display_name": "Python 3",
   "language": "python",
   "name": "python3"
  },
  "language_info": {
   "codemirror_mode": {
    "name": "ipython",
    "version": 3
   },
   "file_extension": ".py",
   "mimetype": "text/x-python",
   "name": "python",
   "nbconvert_exporter": "python",
   "pygments_lexer": "ipython3",
   "version": "3.6.5"
  }
 },
 "nbformat": 4,
 "nbformat_minor": 2
}
